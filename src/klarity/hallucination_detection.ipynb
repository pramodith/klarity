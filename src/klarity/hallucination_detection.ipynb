{
 "cells": [
  {
   "cell_type": "markdown",
   "metadata": {},
   "source": [
    "# Hallucination Detection using Entropy Metrics\n",
    "\n",
    "This notebook analyzes the effectiveness of entropy and semantic entropy for detecting hallucinations in LLM responses using the HaluEval dataset."
   ]
  },
  {
   "cell_type": "code",
   "execution_count": 1,
   "metadata": {},
   "outputs": [],
   "source": [
    "# Install required packages\n",
    "!pip install -qqq datasets litellm torch numpy pandas scikit-learn tqdm vllm"
   ]
  },
  {
   "cell_type": "code",
   "execution_count": 2,
   "metadata": {},
   "outputs": [
    {
     "name": "stderr",
     "output_type": "stream",
     "text": [
      "/root/klarity-1/.venv/lib/python3.11/site-packages/tqdm/auto.py:21: TqdmWarning: IProgress not found. Please update jupyter and ipywidgets. See https://ipywidgets.readthedocs.io/en/stable/user_install.html\n",
      "  from .autonotebook import tqdm as notebook_tqdm\n",
      "2025-02-25 00:14:01,710\tINFO util.py:154 -- Missing packages: ['ipywidgets']. Run `pip install -U ipywidgets`, then restart the notebook server for rich notebook output.\n"
     ]
    },
    {
     "data": {
      "text/plain": [
       "True"
      ]
     },
     "execution_count": 2,
     "metadata": {},
     "output_type": "execute_result"
    }
   ],
   "source": [
    "import datasets\n",
    "import litellm\n",
    "import numpy as np\n",
    "import pandas as pd\n",
    "from model2vec import StaticModel\n",
    "from tqdm import tqdm\n",
    "from sklearn.metrics import accuracy_score, f1_score, roc_curve, precision_recall_curve, auc\n",
    "import matplotlib.pyplot as plt\n",
    "import torch\n",
    "import math\n",
    "from dotenv import load_dotenv\n",
    "from typing import List, Dict, Tuple\n",
    "from vllm import LLM, SamplingParams\n",
    "\n",
    "from klarity.core.analyzer import EntropyAnalyzer\n",
    "from klarity.estimator import UncertaintyEstimator\n",
    "from klarity.models import TokenInfo\n",
    "\n",
    "from transformers import AutoTokenizer\n",
    "\n",
    "\n",
    "load_dotenv()\n"
   ]
  },
  {
   "cell_type": "markdown",
   "metadata": {},
   "source": [
    "Get a huggingface dataset"
   ]
  },
  {
   "cell_type": "code",
   "execution_count": 3,
   "metadata": {},
   "outputs": [],
   "source": [
    "# Load the HaluEval dataset\n",
    "def get_halueval_dataset(split_name: str = \"qa\"):  \n",
    "    \"\"\"\n",
    "    Load the HaluEval dataset.\n",
    "\n",
    "    Args:\n",
    "        split_name (str): The split name of the dataset. Default is \"qa\".\n",
    "\n",
    "    Returns:\n",
    "        datasets.Dataset: The loaded dataset.\n",
    "    \"\"\"\n",
    "    dataset = datasets.load_dataset(\"notrichardren/HaluEval\", split_name)\n",
    "    print(f\"Dataset size: {len(dataset['train'])}\")\n",
    "    return dataset"
   ]
  },
  {
   "cell_type": "code",
   "execution_count": 5,
   "metadata": {},
   "outputs": [
    {
     "name": "stdout",
     "output_type": "stream",
     "text": [
      "Dataset size: 10000\n"
     ]
    },
    {
     "data": {
      "text/plain": [
       "100"
      ]
     },
     "execution_count": 5,
     "metadata": {},
     "output_type": "execute_result"
    }
   ],
   "source": [
    "# Sample the top 100 rows of the dataset\n",
    "ds = get_halueval_dataset()\n",
    "ds = ds['train'].select(range(100))\n",
    "len(ds)"
   ]
  },
  {
   "cell_type": "markdown",
   "metadata": {},
   "source": [
    "Initialize our Klarity Uncertainty Estimator to compute entropy."
   ]
  },
  {
   "cell_type": "code",
   "execution_count": 6,
   "metadata": {},
   "outputs": [],
   "source": [
    "entropy_analyzer = EntropyAnalyzer()\n",
    "uncertainty_estimator = UncertaintyEstimator(top_k=5, analyzer=entropy_analyzer)\n"
   ]
  },
  {
   "cell_type": "markdown",
   "metadata": {},
   "source": [
    "A function to get a response from an externally hosted language model using LiteLLM."
   ]
  },
  {
   "cell_type": "code",
   "execution_count": 7,
   "metadata": {},
   "outputs": [],
   "source": [
    "def get_litellm_response(\n",
    "    text: str, \n",
    "    model: str = \"together_ai/meta-llama/Meta-Llama-3.1-8B-Instruct-Turbo-128K\",\n",
    "    top_k: int = 1\n",
    ") -> Tuple[str, str, List[str], List[float]]:\n",
    "    \"\"\"\n",
    "    Get model response and associated metrics for a given input text.\n",
    "    \n",
    "    Args:\n",
    "        text: Input text to get response for\n",
    "        model: Optional model override\n",
    "        top_k: Number of top tokens to return\n",
    "        \n",
    "    Returns:\n",
    "        Tuple containing:\n",
    "        - Raw model response\n",
    "        - Processed response content\n",
    "        - List of tokens\n",
    "        - List of token log probabilities\n",
    "    \"\"\"\n",
    "    try:\n",
    "        response = litellm.completion(\n",
    "            model=model,\n",
    "            messages=[{\"role\": \"user\", \"content\": text}],\n",
    "            logprobs=top_k,\n",
    "            echo=True\n",
    "        )\n",
    "        tokens = response.choices[0].logprobs.tokens\n",
    "        logprobs = response.choices[0].logprobs.token_logprobs\n",
    "        return response, response.choices[0].message.content, tokens, logprobs\n",
    "\n",
    "    except Exception as e:\n",
    "        print(f\"Error processing text: {e}\")\n",
    "        return None, None, None, None"
   ]
  },
  {
   "cell_type": "code",
   "execution_count": 8,
   "metadata": {},
   "outputs": [
    {
     "data": {
      "text/plain": [
       "ModelResponse(id='91737f0a5ad4991e', created=1740442477, model='together_ai/meta-llama/Meta-Llama-3.1-8B-Instruct-Turbo-128K', object='chat.completion', system_fingerprint=None, choices=[Choices(finish_reason='eos', index=0, message=Message(content='As of my cut-off knowledge in December 2023, the President of the United States was Joe Biden. However, please note that my information may not be up to date, and I recommend checking a reliable news source for the most current information on the President of the United States.', role='assistant', tool_calls=None, function_call=None, provider_specific_fields={'refusal': None}, refusal=None), logprobs=ChoiceLogprobs(content=None, refusal=None, token_ids=[2170, 315, 856, 4018, 12744, 6677, 304, 6790, 220, 2366, 18, 11, 279, 4900, 315, 279, 3723, 4273, 574, 13142, 38180, 13, 4452, 11, 4587, 5296, 430, 856, 2038, 1253, 539, 387, 709, 311, 2457, 11, 323, 358, 7079, 13598, 264, 15062, 3754, 2592, 369, 279, 1455, 1510, 2038, 389, 279, 4900, 315, 279, 3723, 4273, 13, 128009], tokens=['As', ' of', ' my', ' cut', '-off', ' knowledge', ' in', ' December', ' ', '202', '3', ',', ' the', ' President', ' of', ' the', ' United', ' States', ' was', ' Joe', ' Biden', '.', ' However', ',', ' please', ' note', ' that', ' my', ' information', ' may', ' not', ' be', ' up', ' to', ' date', ',', ' and', ' I', ' recommend', ' checking', ' a', ' reliable', ' news', ' source', ' for', ' the', ' most', ' current', ' information', ' on', ' the', ' President', ' of', ' the', ' United', ' States', '.', '<|eot_id|>'], token_logprobs=[-0.29492188, -0.20214844, -0.0041503906, -0.62109375, -0.033447266, -0.052734375, -0.47460938, -0.5234375, -0.000102996826, -5.1259995e-05, -0.25195312, -0.0006713867, -0.09326172, -0.076660156, -5.054474e-05, -4.386902e-05, -2.9802322e-06, -2.336502e-05, -0.52734375, -0.0031280518, -2.2649765e-06, -0.017944336, -0.53125, -0.006958008, -0.30273438, -0.008239746, -0.00024223328, -0.82421875, -0.578125, -0.23339844, -0.18164062, -0.11328125, -0.013671875, -0.47460938, -0.00064849854, -0.58203125, -0.06591797, -0.9375, -1.1484375, -0.390625, -0.7265625, -0.10839844, -0.055419922, -0.00013828278, -0.16210938, -0.007080078, -0.095703125, -0.38867188, -0.044189453, -0.78515625, -0.17578125, -0.89453125, -0.024658203, -2.3841858e-07, -9.179115e-06, -0.00015354156, -0.21875, -0.1171875]))], usage=Usage(completion_tokens=58, prompt_tokens=44, total_tokens=102, completion_tokens_details=None, prompt_tokens_details=None), service_tier=None, prompt=[{'text': '<|begin_of_text|><|start_header_id|>system<|end_header_id|>\\n\\nCutting Knowledge Date: December 2023\\nToday Date: 25 February 2025\\n\\n<|eot_id|><|start_header_id|>user<|end_header_id|>\\n\\nWho is the president of the United States?<|eot_id|><|start_header_id|>assistant<|end_header_id|>\\n\\n', 'logprobs': {'token_ids': [128000, 128006, 9125, 128007, 271, 38766, 1303, 33025, 2696, 25, 6790, 220, 2366, 18, 198, 15724, 2696, 25, 220, 914, 7552, 220, 2366, 20, 271, 128009, 128006, 882, 128007, 271, 15546, 374, 279, 4872, 315, 279, 3723, 4273, 30, 128009, 128006, 78191, 128007, 271], 'tokens': ['<|begin_of_text|>', '<|start_header_id|>', 'system', '<|end_header_id|>', '\\n\\n', 'Cut', 'ting', ' Knowledge', ' Date', ':', ' December', ' ', '202', '3', '\\n', 'Today', ' Date', ':', ' ', '25', ' February', ' ', '202', '5', '\\n\\n', '<|eot_id|>', '<|start_header_id|>', 'user', '<|end_header_id|>', '\\n\\n', 'Who', ' is', ' the', ' president', ' of', ' the', ' United', ' States', '?', '<|eot_id|>', '<|start_header_id|>', 'assistant', '<|end_header_id|>', '\\n\\n'], 'token_logprobs': [None, -5.34375, -24.5, -2.359375, -15.5, -11.9375, -1.1875, -7.34375, -8.625, -0.034179688, -2.390625, -6.198883e-05, -2.796875, -5.625, -1.0625, -9.25, -8.8125, -0.00035476685, -0.29492188, -2.671875, -3.859375, -0.18261719, -0.017333984, -4.03125, -0.040527344, -21.875, -1.1920929e-07, -39.25, -0.08251953, -3.1471252e-05, -7.09375, -1.140625, -0.953125, -4.21875, -0.019897461, -0.92578125, -0.671875, -0.052978516, -0.63671875, -4.09375, -1.1920929e-07, 0, 0, 0]}}])"
      ]
     },
     "execution_count": 8,
     "metadata": {},
     "output_type": "execute_result"
    }
   ],
   "source": [
    "r, _,  _, _ = get_litellm_response(\"Who is the president of the United States?\")\n",
    "r"
   ]
  },
  {
   "cell_type": "markdown",
   "metadata": {},
   "source": [
    "Instantiate a vllm model that you want to evaluate."
   ]
  },
  {
   "cell_type": "code",
   "execution_count": 9,
   "metadata": {},
   "outputs": [
    {
     "name": "stdout",
     "output_type": "stream",
     "text": [
      "INFO 02-25 00:15:12 __init__.py:207] Automatically detected platform cuda.\n"
     ]
    },
    {
     "name": "stdout",
     "output_type": "stream",
     "text": [
      "INFO 02-25 00:15:20 config.py:549] This model supports multiple tasks: {'reward', 'embed', 'generate', 'classify', 'score'}. Defaulting to 'generate'.\n",
      "INFO 02-25 00:15:20 llm_engine.py:234] Initializing a V0 LLM engine (v0.7.3) with config: model='HuggingFaceTB/SmolLM2-360M-Instruct', speculative_config=None, tokenizer='HuggingFaceTB/SmolLM2-360M-Instruct', skip_tokenizer_init=False, tokenizer_mode=auto, revision=None, override_neuron_config=None, tokenizer_revision=None, trust_remote_code=False, dtype=torch.bfloat16, max_seq_len=8192, download_dir=None, load_format=LoadFormat.AUTO, tensor_parallel_size=1, pipeline_parallel_size=1, disable_custom_all_reduce=False, quantization=None, enforce_eager=False, kv_cache_dtype=auto,  device_config=cuda, decoding_config=DecodingConfig(guided_decoding_backend='xgrammar'), observability_config=ObservabilityConfig(otlp_traces_endpoint=None, collect_model_forward_time=False, collect_model_execute_time=False), seed=0, served_model_name=HuggingFaceTB/SmolLM2-360M-Instruct, num_scheduler_steps=1, multi_step_stream_outputs=True, enable_prefix_caching=False, chunked_prefill_enabled=False, use_async_output_proc=True, disable_mm_preprocessor_cache=False, mm_processor_kwargs=None, pooler_config=None, compilation_config={\"splitting_ops\":[],\"compile_sizes\":[],\"cudagraph_capture_sizes\":[256,248,240,232,224,216,208,200,192,184,176,168,160,152,144,136,128,120,112,104,96,88,80,72,64,56,48,40,32,24,16,8,4,2,1],\"max_capture_size\":256}, use_cached_outputs=False, \n",
      "INFO 02-25 00:15:22 cuda.py:229] Using Flash Attention backend.\n",
      "INFO 02-25 00:15:22 model_runner.py:1110] Starting to load model HuggingFaceTB/SmolLM2-360M-Instruct...\n",
      "INFO 02-25 00:15:23 weight_utils.py:254] Using model weights format ['*.safetensors']\n",
      "INFO 02-25 00:15:23 weight_utils.py:304] No model.safetensors.index.json found in remote.\n"
     ]
    },
    {
     "name": "stderr",
     "output_type": "stream",
     "text": [
      "Loading safetensors checkpoint shards:   0% Completed | 0/1 [00:00<?, ?it/s]\n",
      "Loading safetensors checkpoint shards: 100% Completed | 1/1 [00:00<00:00,  6.34it/s]\n",
      "Loading safetensors checkpoint shards: 100% Completed | 1/1 [00:00<00:00,  6.29it/s]\n",
      "\n"
     ]
    },
    {
     "name": "stdout",
     "output_type": "stream",
     "text": [
      "INFO 02-25 00:15:23 model_runner.py:1115] Loading model weights took 0.6750 GB\n",
      "INFO 02-25 00:15:25 worker.py:267] Memory profiling takes 0.92 seconds\n",
      "INFO 02-25 00:15:25 worker.py:267] the current vLLM instance can use total_gpu_memory (39.39GiB) x gpu_memory_utilization (0.90) = 35.45GiB\n",
      "INFO 02-25 00:15:25 worker.py:267] model weights take 0.67GiB; non_torch_memory takes 0.09GiB; PyTorch activation peak memory takes 0.47GiB; the rest of the memory reserved for KV Cache is 34.22GiB.\n",
      "INFO 02-25 00:15:25 executor_base.py:111] # cuda blocks: 56063, # CPU blocks: 6553\n",
      "INFO 02-25 00:15:25 executor_base.py:116] Maximum concurrency for 8192 tokens per request: 109.50x\n",
      "INFO 02-25 00:15:31 model_runner.py:1434] Capturing cudagraphs for decoding. This may lead to unexpected consequences if the model is not static. To run the model in eager mode, set 'enforce_eager=True' or use '--enforce-eager' in the CLI. If out-of-memory error occurs during cudagraph capture, consider decreasing `gpu_memory_utilization` or switching to eager mode. You can also reduce the `max_num_seqs` as needed to decrease memory usage.\n"
     ]
    },
    {
     "name": "stderr",
     "output_type": "stream",
     "text": [
      "Capturing CUDA graph shapes: 100%|██████████| 35/35 [00:22<00:00,  1.56it/s]"
     ]
    },
    {
     "name": "stdout",
     "output_type": "stream",
     "text": [
      "INFO 02-25 00:15:53 model_runner.py:1562] Graph capturing finished in 23 secs, took 0.83 GiB\n",
      "INFO 02-25 00:15:53 llm_engine.py:436] init engine (profile, create kv cache, warmup model) took 29.81 seconds\n"
     ]
    },
    {
     "name": "stderr",
     "output_type": "stream",
     "text": [
      "\n"
     ]
    }
   ],
   "source": [
    "model_name = \"HuggingFaceTB/SmolLM2-360M-Instruct\"\n",
    "judge_model_name = \"together_ai/Qwen/Qwen2.5-7B-Instruct-Turbo\"\n",
    "llm = LLM(model=model_name)\n",
    "tokenizer = AutoTokenizer.from_pretrained(model_name)\n"
   ]
  },
  {
   "cell_type": "markdown",
   "metadata": {},
   "source": [
    "Instantiate the sampling params. We want to get the logprobs of the top-k tokens to compute entropy."
   ]
  },
  {
   "cell_type": "code",
   "execution_count": 10,
   "metadata": {},
   "outputs": [],
   "source": [
    "sampling_params = SamplingParams(\n",
    "    max_tokens=128,\n",
    "    temperature=0.0,\n",
    "    logprobs=5\n",
    ")"
   ]
  },
  {
   "cell_type": "markdown",
   "metadata": {},
   "source": [
    "This cell defines a function `get_vllm_response` that generates a response using a vLLM model\n",
    "and calculates entropy metrics for the generated text. The function takes four parameters:\n",
    " - llm: A vLLM model instance\n",
    " - tokenizer: The tokenizer for the model\n",
    " - sampling_params: Parameters for text generation\n",
    " - text: The input prompt\n",
    "\n",
    " The function returns a tuple containing:\n",
    "1. The generated text\n",
    "2. The raw output from the model\n",
    "3. The mean entropy of the generated tokens\n",
    "4. The mean semantic entropy of the generated tokens\n",
    "\n",
    "This function is used to analyze the uncertainty and potential hallucinations\n",
    "in the model's responses by leveraging entropy-based metrics.\n"
   ]
  },
  {
   "cell_type": "code",
   "execution_count": 11,
   "metadata": {},
   "outputs": [],
   "source": [
    "def get_vllm_response(\n",
    "    llm: LLM,\n",
    "    tokenizer: AutoTokenizer,\n",
    "    sampling_params: SamplingParams, \n",
    "    text: str,\n",
    ") -> Tuple[str, Dict, float, float]:\n",
    "    \"\"\"\n",
    "    Get response using vLLM with entropy metrics.\n",
    "    \n",
    "    Args:\n",
    "        llm: The vllm instance\n",
    "        tokenizer: The tokenizer of the model\n",
    "        sampling_params: The sampling parameters for response generation\n",
    "        text: Input text to get response for\n",
    "        \n",
    "    Returns:\n",
    "        Tuple containing:\n",
    "        - Model's response text\n",
    "        - Raw output from model\n",
    "        - Mean entropy\n",
    "        - Mean semantic entropy\n",
    "    \"\"\"\n",
    "    mean_entropy = []\n",
    "    mean_semantic_entropy = []\n",
    "    messages = [\n",
    "        {\"role\": \"system\", \"content\": \"\"\"\\\n",
    "            You are a question answering assistant. Respond with only the answer and no other context\"\"\"\n",
    "        },\n",
    "        {\"role\": \"user\", \"content\": text}]\n",
    "    input_text=tokenizer.apply_chat_template(messages, tokenize=False, add_generation_prompt=True)\n",
    "    vllm_response = llm.generate(input_text, sampling_params)\n",
    "    answer = vllm_response[0].outputs[0].text\n",
    "    analysis_results = uncertainty_estimator.analyze_generation(vllm_response[0])\n",
    "    for token_metric in analysis_results.token_metrics:\n",
    "        mean_entropy.append(token_metric.raw_entropy)\n",
    "        mean_semantic_entropy.append(token_metric.semantic_entropy)\n",
    "    return answer, analysis_results, np.mean(mean_entropy), np.mean(mean_semantic_entropy)"
   ]
  },
  {
   "cell_type": "code",
   "execution_count": 12,
   "metadata": {},
   "outputs": [
    {
     "name": "stderr",
     "output_type": "stream",
     "text": [
      "Processed prompts: 100%|██████████| 1/1 [00:00<00:00,  7.79it/s, est. speed input: 290.90 toks/s, output: 62.89 toks/s]\n"
     ]
    }
   ],
   "source": [
    "sample_queries = [\"What is the capital of France?\", \"What is the capital of Spain?\"]\n",
    "answer, result, mean_entropy, mean_semantic_entropy = get_vllm_response(llm, tokenizer, sampling_params, sample_queries[1])"
   ]
  },
  {
   "cell_type": "code",
   "execution_count": 13,
   "metadata": {},
   "outputs": [
    {
     "data": {
      "text/plain": [
       "'The capital of Spain is Madrid.'"
      ]
     },
     "execution_count": 13,
     "metadata": {},
     "output_type": "execute_result"
    }
   ],
   "source": [
    "answer"
   ]
  },
  {
   "cell_type": "code",
   "execution_count": 14,
   "metadata": {},
   "outputs": [
    {
     "data": {
      "text/plain": [
       "{'knowledge': \"Arthur's Magazine (1844–1846) was an American literary periodical published in Philadelphia in the 19th century.First for Women is a woman's magazine published by Bauer Media Group in the USA.\",\n",
       " 'question': \"Which magazine was started first Arthur's Magazine or First for Women?\",\n",
       " 'right_answer': \"Arthur's Magazine\",\n",
       " 'hallucinated_answer': 'First for Women was started first.',\n",
       " 'task_type': 'QA'}"
      ]
     },
     "execution_count": 14,
     "metadata": {},
     "output_type": "execute_result"
    }
   ],
   "source": [
    "ds[0]"
   ]
  },
  {
   "cell_type": "markdown",
   "metadata": {},
   "source": [
    "We'll create a function that uses a JudgeLLM to check if the answer predicted by the model being evaluated and the ground truth are equivalent or not."
   ]
  },
  {
   "cell_type": "code",
   "execution_count": 19,
   "metadata": {},
   "outputs": [],
   "source": [
    "results = []\n",
    "predicted_answers = []\n",
    "mean_entropies = []\n",
    "mean_semantic_entropies = []\n",
    "correct_answers = []\n",
    "\n",
    "def check_answers(predicted_answer: str, correct_answer: str, judge_model: str) -> bool:\n",
    "    \"\"\"\n",
    "    A function that checks if two strings are equivalent or not by calling \n",
    "    a JudgeLLM.\n",
    "\n",
    "    Args:\n",
    "        - predicted_answer: The answer predicted by the model being evaluated.\n",
    "        - correct_answer: The ground truth answer\n",
    "        - judge_model: The judge model to be used.\n",
    "    \n",
    "    Returns:\n",
    "        - A boolean 1 for equivalence.\n",
    "    \"\"\"\n",
    "    # Check for exact match first\n",
    "    if predicted_answer.strip().lower() == correct_answer.strip().lower():\n",
    "        return True\n",
    "    \n",
    "    # If not an exact match, use JudgeLLM\n",
    "    prompt = f\"\"\"\n",
    "    Question: Are these two answers equivalent in meaning?\n",
    "    Answer 1: {predicted_answer}\n",
    "    Answer 2: {correct_answer}\n",
    "    Please respond with only 'Yes' or 'No'.\n",
    "    \"\"\"\n",
    "    \n",
    "    _, judge_response, _, _ = get_litellm_response(prompt, judge_model)\n",
    "    return judge_response.strip().lower() == 'yes'"
   ]
  },
  {
   "cell_type": "markdown",
   "metadata": {},
   "source": [
    "Let's run the model on our dataset."
   ]
  },
  {
   "cell_type": "code",
   "execution_count": 20,
   "metadata": {},
   "outputs": [
    {
     "name": "stderr",
     "output_type": "stream",
     "text": [
      "Processed prompts: 100%|██████████| 1/1 [00:00<00:00, 17.89it/s, est. speed input: 1777.35 toks/s, output: 71.77 toks/s]\n",
      "Processed prompts: 100%|██████████| 1/1 [00:00<00:00,  8.27it/s, est. speed input: 810.27 toks/s, output: 160.34 toks/s]\n",
      "Processed prompts: 100%|██████████| 1/1 [00:00<00:00, 14.40it/s, est. speed input: 2570.34 toks/s, output: 101.04 toks/s]\n",
      "Processed prompts: 100%|██████████| 1/1 [00:00<00:00,  9.39it/s, est. speed input: 1672.54 toks/s, output: 144.16 toks/s]\n",
      "Processed prompts: 100%|██████████| 1/1 [00:00<00:00, 15.58it/s, est. speed input: 1656.20 toks/s, output: 93.70 toks/s]\n",
      "Processed prompts: 100%|██████████| 1/1 [00:00<00:00,  9.19it/s, est. speed input: 1596.76 toks/s, output: 150.25 toks/s]\n",
      "Processed prompts: 100%|██████████| 1/1 [00:00<00:00, 17.65it/s, est. speed input: 2708.44 toks/s, output: 70.77 toks/s]\n",
      "Processed prompts: 100%|██████████| 1/1 [00:00<00:00, 16.74it/s, est. speed input: 4196.03 toks/s, output: 83.88 toks/s]\n",
      "Processed prompts: 100%|██████████| 1/1 [00:00<00:00,  6.91it/s, est. speed input: 892.62 toks/s, output: 196.77 toks/s]\n",
      "Processed prompts: 100%|██████████| 1/1 [00:00<00:00,  5.36it/s, est. speed input: 1334.20 toks/s, output: 190.58 toks/s]\n",
      "Processed prompts: 100%|██████████| 1/1 [00:00<00:00, 17.90it/s, est. speed input: 2621.99 toks/s, output: 71.80 toks/s]\n",
      "Processed prompts: 100%|██████████| 1/1 [00:00<00:00, 10.22it/s, est. speed input: 1842.27 toks/s, output: 143.26 toks/s]\n",
      "Processed prompts: 100%|██████████| 1/1 [00:00<00:00,  5.54it/s, est. speed input: 908.89 toks/s, output: 190.73 toks/s]\n",
      "Processed prompts: 100%|██████████| 1/1 [00:00<00:00, 24.86it/s, est. speed input: 3297.13 toks/s, output: 149.78 toks/s]\n",
      "Processed prompts: 100%|██████████| 1/1 [00:00<00:00, 12.81it/s, est. speed input: 1616.31 toks/s, output: 192.37 toks/s]\n",
      "Processed prompts: 100%|██████████| 1/1 [00:00<00:00,  4.79it/s, est. speed input: 1133.01 toks/s, output: 214.85 toks/s]\n",
      "Processed prompts: 100%|██████████| 1/1 [00:00<00:00,  2.06it/s, est. speed input: 399.59 toks/s, output: 265.00 toks/s]\n",
      "Processed prompts: 100%|██████████| 1/1 [00:00<00:00, 24.28it/s, est. speed input: 3412.56 toks/s, output: 73.08 toks/s]\n",
      "Processed prompts: 100%|██████████| 1/1 [00:00<00:00,  4.72it/s, est. speed input: 641.99 toks/s, output: 253.89 toks/s]\n",
      "Processed prompts: 100%|██████████| 1/1 [00:00<00:00,  5.88it/s, est. speed input: 1156.64 toks/s, output: 214.61 toks/s]\n",
      "Processed prompts: 100%|██████████| 1/1 [00:00<00:00, 19.87it/s, est. speed input: 2074.82 toks/s, output: 59.80 toks/s]\n",
      "Processed prompts: 100%|██████████| 1/1 [00:00<00:00, 21.65it/s, est. speed input: 2104.66 toks/s, output: 86.76 toks/s]\n",
      "Processed prompts: 100%|██████████| 1/1 [00:00<00:00,  5.98it/s, est. speed input: 1099.80 toks/s, output: 249.10 toks/s]\n",
      "Processed prompts: 100%|██████████| 1/1 [00:00<00:00, 12.01it/s, est. speed input: 1467.88 toks/s, output: 168.40 toks/s]\n",
      "Processed prompts: 100%|██████████| 1/1 [00:00<00:00,  8.24it/s, est. speed input: 931.75 toks/s, output: 184.63 toks/s]\n",
      "Processed prompts: 100%|██████████| 1/1 [00:00<00:00,  8.21it/s, est. speed input: 1895.11 toks/s, output: 160.71 toks/s]\n",
      "Processed prompts: 100%|██████████| 1/1 [00:00<00:00, 11.95it/s, est. speed input: 2012.39 toks/s, output: 119.75 toks/s]\n",
      "Processed prompts: 100%|██████████| 1/1 [00:00<00:00,  2.15it/s, est. speed input: 550.89 toks/s, output: 244.11 toks/s]\n",
      "Processed prompts: 100%|██████████| 1/1 [00:00<00:00,  9.11it/s, est. speed input: 937.48 toks/s, output: 167.04 toks/s]\n",
      "Processed prompts: 100%|██████████| 1/1 [00:00<00:00, 18.86it/s, est. speed input: 2196.11 toks/s, output: 75.67 toks/s]\n",
      "Processed prompts: 100%|██████████| 1/1 [00:00<00:00,  5.06it/s, est. speed input: 1084.74 toks/s, output: 250.68 toks/s]\n",
      "Processed prompts: 100%|██████████| 1/1 [00:00<00:00, 12.94it/s, est. speed input: 1930.89 toks/s, output: 129.56 toks/s]\n",
      "Processed prompts: 100%|██████████| 1/1 [00:00<00:00,  4.82it/s, est. speed input: 467.72 toks/s, output: 228.97 toks/s]\n",
      "Processed prompts: 100%|██████████| 1/1 [00:00<00:00,  8.75it/s, est. speed input: 1560.09 toks/s, output: 179.29 toks/s]\n",
      "Processed prompts: 100%|██████████| 1/1 [00:00<00:00, 17.35it/s, est. speed input: 1600.92 toks/s, output: 86.96 toks/s]\n",
      "Processed prompts: 100%|██████████| 1/1 [00:00<00:00, 10.61it/s, est. speed input: 1604.40 toks/s, output: 138.10 toks/s]\n",
      "Processed prompts: 100%|██████████| 1/1 [00:00<00:00, 17.85it/s, est. speed input: 3167.28 toks/s, output: 71.54 toks/s]\n",
      "Processed prompts: 100%|██████████| 1/1 [00:00<00:00, 10.42it/s, est. speed input: 1105.45 toks/s, output: 177.26 toks/s]\n",
      "Processed prompts: 100%|██████████| 1/1 [00:00<00:00,  2.43it/s, est. speed input: 585.39 toks/s, output: 242.46 toks/s]\n",
      "Processed prompts: 100%|██████████| 1/1 [00:00<00:00, 22.70it/s, est. speed input: 4127.49 toks/s, output: 45.57 toks/s]\n",
      "Processed prompts: 100%|██████████| 1/1 [00:00<00:00,  5.55it/s, est. speed input: 1179.70 toks/s, output: 230.30 toks/s]\n",
      "Processed prompts: 100%|██████████| 1/1 [00:00<00:00, 10.93it/s, est. speed input: 2122.22 toks/s, output: 153.12 toks/s]\n",
      "Processed prompts: 100%|██████████| 1/1 [00:00<00:00, 17.32it/s, est. speed input: 3354.18 toks/s, output: 69.48 toks/s]\n",
      "Processed prompts: 100%|██████████| 1/1 [00:00<00:00, 28.60it/s, est. speed input: 3110.90 toks/s, output: 143.95 toks/s]\n",
      "Processed prompts: 100%|██████████| 1/1 [00:00<00:00, 15.49it/s, est. speed input: 2920.58 toks/s, output: 93.17 toks/s]\n",
      "Processed prompts: 100%|██████████| 1/1 [00:00<00:00, 25.00it/s, est. speed input: 3649.10 toks/s, output: 75.47 toks/s]\n",
      "Processed prompts: 100%|██████████| 1/1 [00:00<00:00,  7.16it/s, est. speed input: 1436.92 toks/s, output: 168.57 toks/s]\n",
      "Processed prompts: 100%|██████████| 1/1 [00:00<00:00,  4.74it/s, est. speed input: 983.39 toks/s, output: 206.25 toks/s]\n",
      "Processed prompts: 100%|██████████| 1/1 [00:00<00:00, 15.34it/s, est. speed input: 1891.88 toks/s, output: 92.25 toks/s]\n",
      "Processed prompts: 100%|██████████| 1/1 [00:00<00:00,  8.56it/s, est. speed input: 812.47 toks/s, output: 174.68 toks/s]\n",
      "Processed prompts: 100%|██████████| 1/1 [00:00<00:00, 12.39it/s, est. speed input: 1477.16 toks/s, output: 111.68 toks/s]\n",
      "Processed prompts: 100%|██████████| 1/1 [00:00<00:00,  7.41it/s, est. speed input: 1251.57 toks/s, output: 166.85 toks/s]\n",
      "Processed prompts: 100%|██████████| 1/1 [00:00<00:00,  5.50it/s, est. speed input: 951.40 toks/s, output: 189.15 toks/s]\n",
      "Processed prompts: 100%|██████████| 1/1 [00:00<00:00,  3.49it/s, est. speed input: 547.08 toks/s, output: 211.75 toks/s]\n",
      "Processed prompts: 100%|██████████| 1/1 [00:00<00:00,  7.99it/s, est. speed input: 1348.47 toks/s, output: 179.76 toks/s]\n",
      "Processed prompts: 100%|██████████| 1/1 [00:00<00:00, 19.62it/s, est. speed input: 2287.56 toks/s, output: 59.11 toks/s]\n",
      "Processed prompts: 100%|██████████| 1/1 [00:00<00:00,  3.74it/s, est. speed input: 904.01 toks/s, output: 214.69 toks/s]\n",
      "Processed prompts: 100%|██████████| 1/1 [00:00<00:00, 16.94it/s, est. speed input: 2907.21 toks/s, output: 84.96 toks/s]\n",
      "Processed prompts: 100%|██████████| 1/1 [00:00<00:00,  5.35it/s, est. speed input: 1007.04 toks/s, output: 221.95 toks/s]\n",
      "Processed prompts: 100%|██████████| 1/1 [00:00<00:00,  3.63it/s, est. speed input: 1045.10 toks/s, output: 230.99 toks/s]\n",
      "Processed prompts: 100%|██████████| 1/1 [00:00<00:00, 12.66it/s, est. speed input: 1940.43 toks/s, output: 126.79 toks/s]\n",
      "Processed prompts: 100%|██████████| 1/1 [00:00<00:00,  7.00it/s, est. speed input: 1153.04 toks/s, output: 199.26 toks/s]\n",
      "Processed prompts: 100%|██████████| 1/1 [00:00<00:00, 19.91it/s, est. speed input: 2739.99 toks/s, output: 59.95 toks/s]\n",
      "Processed prompts: 100%|██████████| 1/1 [00:00<00:00,  8.16it/s, est. speed input: 1825.77 toks/s, output: 207.44 toks/s]\n",
      "Processed prompts: 100%|██████████| 1/1 [00:00<00:00, 21.77it/s, est. speed input: 2406.33 toks/s, output: 43.71 toks/s]\n",
      "Processed prompts: 100%|██████████| 1/1 [00:00<00:00,  5.65it/s, est. speed input: 1041.14 toks/s, output: 200.20 toks/s]\n",
      "Processed prompts: 100%|██████████| 1/1 [00:00<00:00, 17.20it/s, est. speed input: 3277.02 toks/s, output: 86.20 toks/s]\n",
      "Processed prompts: 100%|██████████| 1/1 [00:00<00:00,  8.52it/s, est. speed input: 1198.24 toks/s, output: 182.31 toks/s]\n",
      "Processed prompts: 100%|██████████| 1/1 [00:00<00:00, 12.12it/s, est. speed input: 1856.18 toks/s, output: 121.29 toks/s]\n",
      "Processed prompts: 100%|██████████| 1/1 [00:00<00:00,  4.95it/s, est. speed input: 826.26 toks/s, output: 200.29 toks/s]\n",
      "Processed prompts: 100%|██████████| 1/1 [00:00<00:00, 17.69it/s, est. speed input: 2873.20 toks/s, output: 53.18 toks/s]\n",
      "Processed prompts: 100%|██████████| 1/1 [00:00<00:00,  6.88it/s, est. speed input: 720.65 toks/s, output: 132.92 toks/s]\n",
      "Processed prompts: 100%|██████████| 1/1 [00:00<00:00, 15.93it/s, est. speed input: 2476.07 toks/s, output: 63.87 toks/s]\n",
      "Processed prompts: 100%|██████████| 1/1 [00:00<00:00, 20.35it/s, est. speed input: 2099.69 toks/s, output: 61.14 toks/s]\n",
      "Processed prompts: 100%|██████████| 1/1 [00:00<00:00,  6.18it/s, est. speed input: 714.38 toks/s, output: 125.31 toks/s]\n",
      "Processed prompts: 100%|██████████| 1/1 [00:00<00:00,  6.52it/s, est. speed input: 750.45 toks/s, output: 192.57 toks/s]\n",
      "Processed prompts: 100%|██████████| 1/1 [00:00<00:00, 18.59it/s, est. speed input: 3246.80 toks/s, output: 74.59 toks/s]\n",
      "Processed prompts: 100%|██████████| 1/1 [00:00<00:00,  6.81it/s, est. speed input: 1465.73 toks/s, output: 179.74 toks/s]\n",
      "Processed prompts: 100%|██████████| 1/1 [00:00<00:00, 15.55it/s, est. speed input: 2588.23 toks/s, output: 93.51 toks/s]\n",
      "Processed prompts: 100%|██████████| 1/1 [00:00<00:00, 16.68it/s, est. speed input: 2310.07 toks/s, output: 83.65 toks/s]\n",
      "Processed prompts: 100%|██████████| 1/1 [00:00<00:00,  6.46it/s, est. speed input: 793.47 toks/s, output: 183.59 toks/s]\n",
      "Processed prompts: 100%|██████████| 1/1 [00:00<00:00,  6.93it/s, est. speed input: 1041.01 toks/s, output: 175.82 toks/s]\n",
      "Processed prompts: 100%|██████████| 1/1 [00:00<00:00,  5.13it/s, est. speed input: 711.88 toks/s, output: 197.44 toks/s]\n",
      "Processed prompts: 100%|██████████| 1/1 [00:00<00:00, 14.99it/s, est. speed input: 3455.64 toks/s, output: 105.13 toks/s]\n",
      "Processed prompts: 100%|██████████| 1/1 [00:00<00:00,  6.57it/s, est. speed input: 715.93 toks/s, output: 194.01 toks/s]\n",
      "Processed prompts: 100%|██████████| 1/1 [00:00<00:00, 18.01it/s, est. speed input: 2600.08 toks/s, output: 72.19 toks/s]\n",
      "Processed prompts: 100%|██████████| 1/1 [00:00<00:00, 25.68it/s, est. speed input: 2729.33 toks/s, output: 77.21 toks/s]\n",
      "Processed prompts: 100%|██████████| 1/1 [00:00<00:00,  9.64it/s, est. speed input: 1023.85 toks/s, output: 147.64 toks/s]\n",
      "Processed prompts: 100%|██████████| 1/1 [00:00<00:00,  5.13it/s, est. speed input: 513.31 toks/s, output: 197.00 toks/s]\n",
      "Processed prompts: 100%|██████████| 1/1 [00:00<00:00,  7.94it/s, est. speed input: 906.86 toks/s, output: 161.91 toks/s]\n",
      "Processed prompts: 100%|██████████| 1/1 [00:00<00:00, 15.61it/s, est. speed input: 2409.35 toks/s, output: 93.83 toks/s]\n",
      "Processed prompts: 100%|██████████| 1/1 [00:00<00:00, 20.07it/s, est. speed input: 2192.87 toks/s, output: 100.55 toks/s]\n",
      "Processed prompts: 100%|██████████| 1/1 [00:00<00:00, 22.67it/s, est. speed input: 3861.70 toks/s, output: 158.95 toks/s]\n",
      "Processed prompts: 100%|██████████| 1/1 [00:00<00:00, 22.47it/s, est. speed input: 2888.70 toks/s, output: 45.10 toks/s]\n",
      "Processed prompts: 100%|██████████| 1/1 [00:00<00:00,  6.14it/s, est. speed input: 1193.90 toks/s, output: 186.52 toks/s]\n",
      "Processed prompts: 100%|██████████| 1/1 [00:00<00:00, 15.27it/s, est. speed input: 1453.93 toks/s, output: 91.79 toks/s]\n",
      "Processed prompts: 100%|██████████| 1/1 [00:00<00:00, 12.86it/s, est. speed input: 2306.33 toks/s, output: 115.92 toks/s]\n",
      "Processed prompts: 100%|██████████| 1/1 [00:00<00:00,  8.38it/s, est. speed input: 1099.58 toks/s, output: 161.93 toks/s]\n",
      "Processed prompts: 100%|██████████| 1/1 [00:00<00:00,  7.82it/s, est. speed input: 865.19 toks/s, output: 166.66 toks/s]\n",
      "Processed prompts: 100%|██████████| 1/1 [00:00<00:00,  8.65it/s, est. speed input: 1248.64 toks/s, output: 158.25 toks/s]\n",
      "100%|██████████| 100/100 [01:09<00:00,  1.43it/s]\n"
     ]
    }
   ],
   "source": [
    "did_hallucinate = []\n",
    "for item in tqdm(ds):\n",
    "    correct_answers.append(item['right_answer'])\n",
    "    combined_text = f\"Context: {item['knowledge']}\\nQuestion: {item['question']}\\n Answer:\"\n",
    "    predicted_answer, result, mean_entropy, mean_semantic_entropy = get_vllm_response(llm, tokenizer, sampling_params, combined_text)\n",
    "    predicted_answers.append(predicted_answer)\n",
    "    mean_entropies.append(mean_entropy)\n",
    "    mean_semantic_entropies.append(mean_semantic_entropy)\n",
    "    \n",
    "    # Check if the answers match\n",
    "    is_correct = check_answers(predicted_answer, item['right_answer'], judge_model_name)\n",
    "    did_hallucinate.append(is_correct)"
   ]
  },
  {
   "cell_type": "code",
   "execution_count": 21,
   "metadata": {},
   "outputs": [
    {
     "data": {
      "text/plain": [
       "[False,\n",
       " False,\n",
       " False,\n",
       " False,\n",
       " False,\n",
       " False,\n",
       " False,\n",
       " True,\n",
       " False,\n",
       " False,\n",
       " False,\n",
       " False,\n",
       " False,\n",
       " True,\n",
       " False,\n",
       " False,\n",
       " False,\n",
       " True,\n",
       " False,\n",
       " False,\n",
       " True,\n",
       " True,\n",
       " False,\n",
       " False,\n",
       " False,\n",
       " False,\n",
       " False,\n",
       " False,\n",
       " False,\n",
       " True,\n",
       " False,\n",
       " False,\n",
       " False,\n",
       " False,\n",
       " False,\n",
       " False,\n",
       " True,\n",
       " False,\n",
       " False,\n",
       " True,\n",
       " False,\n",
       " False,\n",
       " True,\n",
       " False,\n",
       " True,\n",
       " False,\n",
       " False,\n",
       " False,\n",
       " False,\n",
       " False,\n",
       " False,\n",
       " False,\n",
       " False,\n",
       " False,\n",
       " False,\n",
       " False,\n",
       " False,\n",
       " False,\n",
       " False,\n",
       " False,\n",
       " False,\n",
       " False,\n",
       " True,\n",
       " False,\n",
       " True,\n",
       " False,\n",
       " False,\n",
       " False,\n",
       " False,\n",
       " False,\n",
       " False,\n",
       " False,\n",
       " True,\n",
       " False,\n",
       " False,\n",
       " False,\n",
       " False,\n",
       " False,\n",
       " True,\n",
       " True,\n",
       " False,\n",
       " False,\n",
       " False,\n",
       " True,\n",
       " False,\n",
       " True,\n",
       " False,\n",
       " False,\n",
       " False,\n",
       " False,\n",
       " True,\n",
       " True,\n",
       " False,\n",
       " False,\n",
       " False,\n",
       " True,\n",
       " False,\n",
       " False,\n",
       " False,\n",
       " False]"
      ]
     },
     "execution_count": 21,
     "metadata": {},
     "output_type": "execute_result"
    }
   ],
   "source": [
    "did_hallucinate"
   ]
  },
  {
   "cell_type": "code",
   "execution_count": 22,
   "metadata": {},
   "outputs": [
    {
     "name": "stdout",
     "output_type": "stream",
     "text": [
      "Model Accuracy is 0.2\n"
     ]
    }
   ],
   "source": [
    "print(f\"Model Accuracy is {np.mean(did_hallucinate)}\")\n",
    "# Hallucination when answer is wrong so let's take the inverse.\n",
    "did_hallucinate = [not x for x in did_hallucinate]"
   ]
  },
  {
   "cell_type": "code",
   "execution_count": 23,
   "metadata": {},
   "outputs": [],
   "source": [
    "# Min Max Scale entropies\n",
    "scaled_mean_entropies = (np.array(mean_entropies) - np.min(mean_entropies)) / (np.max(mean_entropies) - np.min(mean_entropies))\n",
    "scaled_mean_semantic_entropies = (np.array(mean_semantic_entropies) - np.min(mean_semantic_entropies)) / (np.max(mean_semantic_entropies) - np.min(mean_semantic_entropies))"
   ]
  },
  {
   "cell_type": "markdown",
   "metadata": {},
   "source": [
    "\n",
    "Plots ROC and PR curves for semantic and raw entropy metrics."
   ]
  },
  {
   "cell_type": "code",
   "execution_count": 24,
   "metadata": {},
   "outputs": [],
   "source": [
    "def plot_metrics(semantic_entropy, raw_entropy, labels):\n",
    "    \"\"\"\n",
    "    Plots ROC and PR curves for semantic and raw entropy metrics.\n",
    "\n",
    "    This function calculates and visualizes the following:\n",
    "    1. ROC (Receiver Operating Characteristic) curves\n",
    "    2. PR (Precision-Recall) curves\n",
    "    3. Confusion matrices\n",
    "    4. Scatter plot of semantic vs raw entropy\n",
    "\n",
    "    For both semantic and raw entropy metrics, it computes:\n",
    "    - False Positive Rate (FPR) and True Positive Rate (TPR) for ROC curves\n",
    "    - Precision and Recall for PR curves\n",
    "    - Area Under the Curve (AUC) for both ROC and PR curves\n",
    "\n",
    "    Args:\n",
    "    semantic_entropy (array-like): Semantic entropy values\n",
    "    raw_entropy (array-like): Raw entropy values\n",
    "    labels (array-like): True labels (0 for no hallucination, 1 for hallucination)\n",
    "\n",
    "    The function creates a 1x4 subplot figure to display all plots.\n",
    "    \"\"\"\n",
    "    # Calculate metrics\n",
    "    semantic_fpr, semantic_tpr, _ = roc_curve(labels, semantic_entropy)\n",
    "    semantic_roc_auc = auc(semantic_fpr, semantic_tpr)\n",
    "    raw_fpr, raw_tpr, _ = roc_curve(labels, raw_entropy)\n",
    "    raw_roc_auc = auc(raw_fpr, raw_tpr)\n",
    "    \n",
    "    semantic_precision, semantic_recall, _ = precision_recall_curve(labels, semantic_entropy)\n",
    "    raw_precision, raw_recall, _ = precision_recall_curve(labels, raw_entropy)\n",
    "    \n",
    "    semantic_pr_auc = auc(semantic_recall, semantic_precision)\n",
    "    raw_pr_auc = auc(raw_recall, raw_precision)\n",
    "\n",
    "    # Plot PR curves\n",
    "    plt.figure(figsize=(15, 5))\n",
    "    \n",
    "    plt.subplot(1, 4, 1)\n",
    "    plt.plot([0, 1], [0, 1], linestyle='--', label='Random')\n",
    "    plt.plot(semantic_recall, semantic_precision, label=f'Semantic (AUC = {semantic_pr_auc:.2f})')\n",
    "    plt.plot(raw_recall, raw_precision, label=f'Raw (AUC = {raw_pr_auc:.2f})')\n",
    "    plt.xlabel('Recall')\n",
    "    plt.ylabel('Precision')\n",
    "    plt.title('Precision-Recall Curve')\n",
    "    plt.legend()\n",
    "\n",
    "    # Plot ROC Curve\n",
    "    plt.subplot(1, 4, 2)\n",
    "    plt.plot(semantic_fpr, semantic_tpr, label=f'Semantic Entropy ROC AUC = {semantic_roc_auc:.2f}')\n",
    "    plt.plot(raw_fpr, raw_tpr, label=f'Raw Entropy ROC AUC = {raw_roc_auc:.2f}')\n",
    "    plt.plot([0, 1], [0, 1], color='grey', linestyle='--')\n",
    "    plt.xlabel('False Positive Rate')\n",
    "    plt.ylabel('True Positive Rate (Recall)')\n",
    "    plt.title('ROC Curve')\n",
    "    plt.legend(loc=\"lower right\")\n",
    "\n",
    "    # Plot Entropy Distributions curves\n",
    "    plt.subplot(1, 4, 3)\n",
    "    plt.hist(semantic_entropy, bins=50, alpha=0.5, label='Semantic')\n",
    "    plt.hist(raw_entropy, bins=50, alpha=0.5, label='Raw')\n",
    "    plt.xlabel('Entropy')\n",
    "    plt.ylabel('Frequency')\n",
    "    plt.title('Entropy Distribution')\n",
    "    plt.legend()\n",
    "\n",
    "    # Plot accuracy\n",
    "    thresholds = np.linspace(0, 1, 100)\n",
    "    semantic_accuracy = [accuracy_score(labels, semantic_entropy > t) for t in thresholds]\n",
    "    raw_accuracy = [accuracy_score(labels, raw_entropy > t) for t in thresholds]\n",
    "\n",
    "    plt.subplot(1, 4, 4)\n",
    "    plt.plot(thresholds, semantic_accuracy, label='Semantic')\n",
    "    plt.plot(thresholds, raw_accuracy, label='Raw')\n",
    "    plt.xlabel('Threshold')\n",
    "    plt.ylabel('Accuracy')\n",
    "    plt.title('Accuracy vs Threshold')\n",
    "    plt.legend()\n",
    "\n",
    "    plt.tight_layout()\n",
    "    plt.show()"
   ]
  },
  {
   "cell_type": "code",
   "execution_count": 25,
   "metadata": {},
   "outputs": [
    {
     "data": {
      "image/png": "[encoded data removed]",
      "text/plain": [
       "<Figure size 1500x500 with 4 Axes>"
      ]
     },
     "metadata": {},
     "output_type": "display_data"
    }
   ],
   "source": [
    "plot_metrics(scaled_mean_semantic_entropies, scaled_mean_entropies, did_hallucinate)"
   ]
  }
 ],
 "metadata": {
  "kernelspec": {
   "display_name": ".venv",
   "language": "python",
   "name": "python3"
  },
  "language_info": {
   "codemirror_mode": {
    "name": "ipython",
    "version": 3
   },
   "file_extension": ".py",
   "mimetype": "text/x-python",
   "name": "python",
   "nbconvert_exporter": "python",
   "pygments_lexer": "ipython3",
   "version": "3.11.11"
  }
 },
 "nbformat": 4,
 "nbformat_minor": 4
}

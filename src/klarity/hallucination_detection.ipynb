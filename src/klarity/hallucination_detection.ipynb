{
 "cells": [
  {
   "cell_type": "markdown",
   "metadata": {},
   "source": [
    "# Hallucination Detection using Entropy Metrics\n",
    "\n",
    "This notebook analyzes the effectiveness of entropy and semantic entropy for detecting hallucinations in LLM responses using the HaluEval dataset."
   ]
  },
  {
   "cell_type": "code",
   "execution_count": 3,
   "metadata": {},
   "outputs": [
    {
     "name": "stdout",
     "output_type": "stream",
     "text": [
      "\u001b[2mResolved \u001b[1m190 packages\u001b[0m \u001b[2min 0.96ms\u001b[0m\u001b[0m\n",
      "\u001b[2mAudited \u001b[1m174 packages\u001b[0m \u001b[2min 0.19ms\u001b[0m\u001b[0m\n"
     ]
    }
   ],
   "source": [
    "# Install required packages\n",
    "!uv add datasets litellm torch numpy pandas scikit-learn tqdm vllm"
   ]
  },
  {
   "cell_type": "code",
   "execution_count": 2,
   "metadata": {},
   "outputs": [
    {
     "name": "stderr",
     "output_type": "stream",
     "text": [
      "/workspace/klarity/.venv/lib/python3.11/site-packages/tqdm/auto.py:21: TqdmWarning: IProgress not found. Please update jupyter and ipywidgets. See https://ipywidgets.readthedocs.io/en/stable/user_install.html\n",
      "  from .autonotebook import tqdm as notebook_tqdm\n",
      "2025-02-24 11:16:16,855\tINFO util.py:154 -- Missing packages: ['ipywidgets']. Run `pip install -U ipywidgets`, then restart the notebook server for rich notebook output.\n"
     ]
    },
    {
     "data": {
      "text/plain": [
       "True"
      ]
     },
     "execution_count": 2,
     "metadata": {},
     "output_type": "execute_result"
    }
   ],
   "source": [
    "import datasets\n",
    "import litellm\n",
    "import numpy as np\n",
    "import pandas as pd\n",
    "from model2vec import StaticModel\n",
    "from tqdm import tqdm\n",
    "from sklearn.metrics import accuracy_score, f1_score\n",
    "import torch\n",
    "import math\n",
    "from dotenv import load_dotenv\n",
    "from typing import List, Dict, Tuple\n",
    "from vllm import LLM, SamplingParams\n",
    "\n",
    "from klarity.core.analyzer import EntropyAnalyzer\n",
    "from klarity.estimator import UncertaintyEstimator\n",
    "from klarity.models import TokenInfo\n",
    "\n",
    "load_dotenv()\n"
   ]
  },
  {
   "cell_type": "code",
   "execution_count": 4,
   "metadata": {},
   "outputs": [],
   "source": [
    "# Load the HaluEval dataset\n",
    "def get_halueval_dataset(split_name: str = \"qa\"):\n",
    "    dataset = datasets.load_dataset(\"notrichardren/HaluEval\", split_name)\n",
    "    print(f\"Dataset size: {len(dataset['train'])}\")\n",
    "    print(dataset['train'][0])\n",
    "    return dataset"
   ]
  },
  {
   "cell_type": "code",
   "execution_count": 5,
   "metadata": {},
   "outputs": [
    {
     "name": "stderr",
     "output_type": "stream",
     "text": [
      "Generating train split: 100%|██████████| 10000/10000 [00:00<00:00, 235998.33 examples/s]"
     ]
    },
    {
     "name": "stdout",
     "output_type": "stream",
     "text": [
      "Dataset size: 10000\n",
      "{'knowledge': \"Arthur's Magazine (1844–1846) was an American literary periodical published in Philadelphia in the 19th century.First for Women is a woman's magazine published by Bauer Media Group in the USA.\", 'question': \"Which magazine was started first Arthur's Magazine or First for Women?\", 'right_answer': \"Arthur's Magazine\", 'hallucinated_answer': 'First for Women was started first.', 'task_type': 'QA'}\n"
     ]
    },
    {
     "name": "stderr",
     "output_type": "stream",
     "text": [
      "\n"
     ]
    },
    {
     "data": {
      "text/plain": [
       "DatasetDict({\n",
       "    train: Dataset({\n",
       "        features: ['knowledge', 'question', 'right_answer', 'hallucinated_answer', 'task_type'],\n",
       "        num_rows: 10000\n",
       "    })\n",
       "})"
      ]
     },
     "execution_count": 5,
     "metadata": {},
     "output_type": "execute_result"
    }
   ],
   "source": [
    "get_halueval_dataset()"
   ]
  },
  {
   "cell_type": "code",
   "execution_count": 6,
   "metadata": {},
   "outputs": [],
   "source": [
    "entropy_analyzer = EntropyAnalyzer()\n",
    "uncertainty_estimator = UncertaintyEstimator(top_k=5, analyzer=entropy_analyzer)\n"
   ]
  },
  {
   "cell_type": "code",
   "execution_count": 26,
   "metadata": {},
   "outputs": [],
   "source": [
    "def get_response(\n",
    "    text: str, \n",
    "    model: str = \"together_ai/meta-llama/Meta-Llama-3.1-8B-Instruct-Turbo-128K\",\n",
    "    top_k: int = 5\n",
    ") -> str:\n",
    "    \"\"\"Get entropy metrics for a given response.\"\"\"\n",
    "    try:\n",
    "        response = litellm.completion(\n",
    "            model=model,\n",
    "            messages=[{\"role\": \"user\", \"content\": text}],\n",
    "            logprobs=top_k,\n",
    "            echo=True\n",
    "        )\n",
    "        tokens = response.choices[0].logprobs.tokens\n",
    "        logprobs = response.choices[0].logprobs.token_logprobs\n",
    "        return response, response.choices[0].message.content, tokens, logprobs\n",
    "\n",
    "    except Exception as e:\n",
    "        print(f\"Error processing text: {e}\")\n",
    "        return None, None, None"
   ]
  },
  {
   "cell_type": "code",
   "execution_count": 7,
   "metadata": {},
   "outputs": [],
   "source": [
    "def get_vllm_response(\n",
    "    llm: LLM, \n",
    "    sampling_params: SamplingParams, \n",
    "    text: str,\n",
    "    top_k: int = 5\n",
    "):\n",
    "    vllm_response = llm.generate([text], sampling_params)\n",
    "\n",
    "    generated_texts = []\n",
    "    num_generated_tokens = []\n",
    "    logprobs = []\n",
    "    tokens = []\n",
    "    token_infos = []\n",
    "\n",
    "    for prompt_ind in range(len(vllm_response)):\n",
    "        for sample_ind in range(len(vllm_response[prompt_ind].outputs)):\n",
    "            generated_texts.append(vllm_response[prompt_ind].outputs[sample_ind].text)\n",
    "            tokens.append(vllm_response[prompt_ind].outputs[sample_ind].tokens)\n",
    "            num_generated_tokens.append(len(vllm_response[prompt_ind].outputs[sample_ind].token_ids))\n",
    "            if get_logprobs:\n",
    "                lgps = []\n",
    "                for logprob in vllm_response[prompt_ind].outputs[sample_ind].logprobs:\n",
    "                    lgp = [lg.logprob for lg in logprob.values()]\n",
    "                    lgps.append(lgp)\n",
    "                logprobs.append(lgps)\n",
    "\n",
    "    return generated_texts, num_generated_tokens, logprobs, token_ids\n",
    "    "
   ]
  },
  {
   "cell_type": "code",
   "execution_count": 28,
   "metadata": {},
   "outputs": [],
   "source": [
    "sample_queries = [\"What is the capital of France?\", \"What is the capital of Spain?\"]\n",
    "r, _, _, _ = get_response(sample_queries[0])"
   ]
  },
  {
   "cell_type": "code",
   "execution_count": 29,
   "metadata": {},
   "outputs": [
    {
     "data": {
      "text/plain": [
       "ModelResponse(id='91474dc559739567', created=1739979085, model='together_ai/meta-llama/Meta-Llama-3.1-8B-Instruct-Turbo-128K', object='chat.completion', system_fingerprint=None, choices=[Choices(finish_reason='eos', index=0, message=Message(content='The capital of France is Paris.', role='assistant', tool_calls=None, function_call=None, provider_specific_fields={'refusal': None}, refusal=None), logprobs=ChoiceLogprobs(content=None, refusal=None, token_ids=[791, 6864, 315, 9822, 374, 12366, 13, 128009], tokens=['The', ' capital', ' of', ' France', ' is', ' Paris', '.', '<|eot_id|>'], token_logprobs=[-0.00010919571, -8.34465e-07, -5.9604645e-07, -1.1920929e-07, 0, -6.4373016e-06, -1.9907951e-05, -0.00062179565]))], usage=Usage(completion_tokens=8, prompt_tokens=42, total_tokens=50, completion_tokens_details=None, prompt_tokens_details=None), service_tier=None, prompt=[])"
      ]
     },
     "execution_count": 29,
     "metadata": {},
     "output_type": "execute_result"
    }
   ],
   "source": [
    "r"
   ]
  },
  {
   "cell_type": "code",
   "execution_count": 17,
   "metadata": {},
   "outputs": [
    {
     "data": {
      "text/plain": [
       "'The capital of France is Paris.'"
      ]
     },
     "execution_count": 17,
     "metadata": {},
     "output_type": "execute_result"
    }
   ],
   "source": [
    "r.choices[0].message.content"
   ]
  },
  {
   "cell_type": "code",
   "execution_count": null,
   "metadata": {},
   "outputs": [],
   "source": [
    "# Process a subset of the dataset for testing\n",
    "sample_size = 100  # Adjust based on API limits and requirements\n",
    "results = []\n",
    "\n",
    "for idx in tqdm(range(sample_size)):\n",
    "    sample = dataset['train'][idx]\n",
    "    \n",
    "    # Process correct response\n",
    "    correct_entropy, correct_semantic_entropy = get_response_metrics(sample['correct'])\n",
    "    \n",
    "    # Process hallucinated response\n",
    "    hallu_entropy, hallu_semantic_entropy = get_response_metrics(sample['hallucinated'])\n",
    "    \n",
    "    results.append({\n",
    "        'query': sample['query'],\n",
    "        'correct_entropy': correct_entropy,\n",
    "        'correct_semantic_entropy': correct_semantic_entropy,\n",
    "        'hallu_entropy': hallu_entropy,\n",
    "        'hallu_semantic_entropy': hallu_semantic_entropy\n",
    "    })\n",
    "\n",
    "results_df = pd.DataFrame(results)"
   ]
  },
  {
   "cell_type": "code",
   "execution_count": null,
   "metadata": {},
   "outputs": [],
   "source": []
  },
  {
   "cell_type": "code",
   "execution_count": null,
   "metadata": {},
   "outputs": [],
   "source": [
    "def evaluate_metrics(df: pd.DataFrame, entropy_threshold: float, semantic_threshold: float) -> Dict:\n",
    "    \"\"\"Evaluate the effectiveness of entropy metrics for hallucination detection.\"\"\"\n",
    "    # Predictions for correct responses (false positive rate)\n",
    "    correct_predictions = (\n",
    "        (df['correct_entropy'] > entropy_threshold) |\n",
    "        (df['correct_semantic_entropy'] > semantic_threshold)\n",
    "    )\n",
    "    false_positive_rate = correct_predictions.mean()\n",
    "    \n",
    "    # Predictions for hallucinated responses\n",
    "    hallu_predictions = (\n",
    "        (df['hallu_entropy'] > entropy_threshold) |\n",
    "        (df['hallu_semantic_entropy'] > semantic_threshold)\n",
    "    )\n",
    "    \n",
    "    true_labels = np.ones(len(df))\n",
    "    accuracy = accuracy_score(true_labels, hallu_predictions)\n",
    "    f1 = f1_score(true_labels, hallu_predictions)\n",
    "    \n",
    "    return {\n",
    "        'false_positive_rate': false_positive_rate,\n",
    "        'hallucination_accuracy': accuracy,\n",
    "        'hallucination_f1': f1\n",
    "    }\n",
    "\n",
    "# Try different thresholds\n",
    "entropy_thresholds = np.linspace(0.5, 2.0, 10)\n",
    "semantic_thresholds = np.linspace(0.3, 1.5, 10)\n",
    "\n",
    "best_metrics = None\n",
    "best_score = -float('inf')\n",
    "\n",
    "for e_thresh in entropy_thresholds:\n",
    "    for s_thresh in semantic_thresholds:\n",
    "        metrics = evaluate_metrics(results_df, e_thresh, s_thresh)\n",
    "        \n",
    "        # Score based on high hallucination detection and low false positives\n",
    "        score = metrics['hallucination_f1'] - metrics['false_positive_rate']\n",
    "        \n",
    "        if score > best_score:\n",
    "            best_score = score\n",
    "            best_metrics = {\n",
    "                'entropy_threshold': e_thresh,\n",
    "                'semantic_threshold': s_thresh,\n",
    "                **metrics\n",
    "            }\n",
    "\n",
    "print(\"Best Results:\")\n",
    "for key, value in best_metrics.items():\n",
    "    print(f\"{key}: {value:.3f}\")"
   ]
  }
 ],
 "metadata": {
  "kernelspec": {
   "display_name": ".venv",
   "language": "python",
   "name": "python3"
  },
  "language_info": {
   "codemirror_mode": {
    "name": "ipython",
    "version": 3
   },
   "file_extension": ".py",
   "mimetype": "text/x-python",
   "name": "python",
   "nbconvert_exporter": "python",
   "pygments_lexer": "ipython3",
   "version": "3.11.11"
  }
 },
 "nbformat": 4,
 "nbformat_minor": 4
}
